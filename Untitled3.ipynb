{
  "nbformat": 4,
  "nbformat_minor": 0,
  "metadata": {
    "colab": {
      "provenance": [],
      "authorship_tag": "ABX9TyO6fkr1ikD1jqNJ31zpEySR",
      "include_colab_link": true
    },
    "kernelspec": {
      "name": "python3",
      "display_name": "Python 3"
    },
    "language_info": {
      "name": "python"
    }
  },
  "cells": [
    {
      "cell_type": "markdown",
      "metadata": {
        "id": "view-in-github",
        "colab_type": "text"
      },
      "source": [
        "<a href=\"https://colab.research.google.com/github/suryadhn/sp/blob/main/Untitled3.ipynb\" target=\"_parent\"><img src=\"https://colab.research.google.com/assets/colab-badge.svg\" alt=\"Open In Colab\"/></a>"
      ]
    },
    {
      "cell_type": "code",
      "execution_count": 3,
      "metadata": {
        "colab": {
          "base_uri": "https://localhost:8080/"
        },
        "id": "VW7-qm-LIr5v",
        "outputId": "a9ff5d2f-d474-4df0-9757-1b2ce734877f"
      },
      "outputs": [
        {
          "output_type": "stream",
          "name": "stdout",
          "text": [
            "158963\n",
            "False\n",
            "0.0015077590942382812\n"
          ]
        }
      ],
      "source": [
        "import time\n",
        "def search(L, k):\n",
        "  for i in range(len(L)):\n",
        "    if L[i] == k:\n",
        "      return 4>3\n",
        "  return 3>4\n",
        "\n",
        "L=[i for i in range(10000)]\n",
        "k=int(input())\n",
        "a=time.time()\n",
        "print(search(L, k))\n",
        "b=time.time()\n",
        "print(b-a)"
      ]
    },
    {
      "cell_type": "code",
      "source": [
        "import time\n",
        "def binsearch(L, k):\n",
        "  low=L[0]\n",
        "  high=L[-1]\n",
        "  while low<=high:\n",
        "    mid=(low+high)//2\n",
        "    if L[mid]==k:\n",
        "      return True\n",
        "    elif L[mid]<k:\n",
        "      low=mid+1\n",
        "    else:\n",
        "      high=mid+1\n",
        "  return False\n",
        "\n",
        "L=[i for i in range(10000)]\n",
        "k=int(input())\n",
        "a=time.time()\n",
        "print(binsearch(L, k))\n",
        "b=time.time()\n",
        "print(b-a)"
      ],
      "metadata": {
        "colab": {
          "base_uri": "https://localhost:8080/"
        },
        "id": "Zi2sKrozJxKL",
        "outputId": "456233ac-575f-419f-d9f6-e5f8fa69a6d2"
      },
      "execution_count": 4,
      "outputs": [
        {
          "output_type": "stream",
          "name": "stdout",
          "text": [
            "1589745\n",
            "False\n",
            "0.0002887248992919922\n"
          ]
        }
      ]
    },
    {
      "cell_type": "code",
      "source": [],
      "metadata": {
        "id": "BbkzQHpIWsiW"
      },
      "execution_count": null,
      "outputs": []
    }
  ]
}